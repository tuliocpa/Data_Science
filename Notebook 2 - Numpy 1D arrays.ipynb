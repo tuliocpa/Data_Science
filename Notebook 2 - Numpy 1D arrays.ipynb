{
    "cells": [
        {
            "cell_type": "markdown",
            "metadata": {},
            "source": "<h3> Get to Know a numpy Array </h3>"
        },
        {
            "cell_type": "markdown",
            "metadata": {},
            "source": "cast the following list to a numpy array:"
        },
        {
            "cell_type": "code",
            "execution_count": 8,
            "metadata": {},
            "outputs": [],
            "source": "import numpy as np\na=np.array([1,2,3,4,5])\n\n"
        },
        {
            "cell_type": "markdown",
            "metadata": {},
            "source": "1) type using the function type "
        },
        {
            "cell_type": "code",
            "execution_count": 9,
            "metadata": {},
            "outputs": [
                {
                    "data": {
                        "text/plain": "numpy.ndarray"
                    },
                    "execution_count": 9,
                    "metadata": {},
                    "output_type": "execute_result"
                }
            ],
            "source": "type(a)\n"
        },
        {
            "cell_type": "markdown",
            "metadata": {},
            "source": "2) the shape of the array "
        },
        {
            "cell_type": "code",
            "execution_count": 10,
            "metadata": {},
            "outputs": [
                {
                    "data": {
                        "text/plain": "(5,)"
                    },
                    "execution_count": 10,
                    "metadata": {},
                    "output_type": "execute_result"
                }
            ],
            "source": "a.shape\n"
        },
        {
            "cell_type": "markdown",
            "metadata": {},
            "source": "3) the type of data in the array "
        },
        {
            "cell_type": "code",
            "execution_count": 11,
            "metadata": {},
            "outputs": [
                {
                    "data": {
                        "text/plain": "dtype('int64')"
                    },
                    "execution_count": 11,
                    "metadata": {},
                    "output_type": "execute_result"
                }
            ],
            "source": "a.dtype"
        },
        {
            "cell_type": "markdown",
            "metadata": {},
            "source": "4) find the mean of the array "
        },
        {
            "cell_type": "code",
            "execution_count": 12,
            "metadata": {},
            "outputs": [
                {
                    "data": {
                        "text/plain": "3.0"
                    },
                    "execution_count": 12,
                    "metadata": {},
                    "output_type": "execute_result"
                }
            ],
            "source": "a.mean()"
        },
        {
            "cell_type": "markdown",
            "metadata": {},
            "source": "<h3> Creating and Plotting Functions  </h3>"
        },
        {
            "cell_type": "markdown",
            "metadata": {},
            "source": "1) create the following functions using the numpy array <code> x </code>"
        },
        {
            "cell_type": "markdown",
            "metadata": {},
            "source": "$$y=sin(x)+2$$"
        },
        {
            "cell_type": "code",
            "execution_count": 15,
            "metadata": {},
            "outputs": [],
            "source": "x=np.linspace(0,2*np.pi,100)\ny=np.sin(x)+2"
        },
        {
            "cell_type": "markdown",
            "metadata": {},
            "source": "2)  plot the function"
        },
        {
            "cell_type": "code",
            "execution_count": 16,
            "metadata": {},
            "outputs": [
                {
                    "data": {
                        "text/plain": "[<matplotlib.lines.Line2D at 0x7fabefafb630>]"
                    },
                    "execution_count": 16,
                    "metadata": {},
                    "output_type": "execute_result"
                },
                {
                    "data": {
                        "image/png": "[encoded data removed]",
                        "text/plain": "<Figure size 432x288 with 1 Axes>"
                    },
                    "metadata": {
                        "needs_background": "light"
                    },
                    "output_type": "display_data"
                }
            ],
            "source": "import matplotlib.pyplot as plt\n%matplotlib inline  \nplt.plot(x,y)\n\n"
        },
        {
            "cell_type": "markdown",
            "metadata": {},
            "source": "<hr>\n<small>Copyright &copy; 2018 IBM Cognitive Class. This notebook and its source code are released under the terms of the [MIT License](https://cognitiveclass.ai/mit-license/).</small>"
        }
    ],
    "metadata": {
        "kernelspec": {
            "display_name": "Python 3.6",
            "language": "python",
            "name": "python3"
        },
        "language_info": {
            "codemirror_mode": {
                "name": "ipython",
                "version": 3
            },
            "file_extension": ".py",
            "mimetype": "text/x-python",
            "name": "python",
            "nbconvert_exporter": "python",
            "pygments_lexer": "ipython3",
            "version": "3.6.9"
        }
    },
    "nbformat": 4,
    "nbformat_minor": 2
}