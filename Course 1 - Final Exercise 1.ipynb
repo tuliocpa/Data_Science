{
    "cells": [
        {
            "cell_type": "markdown",
            "metadata": {},
            "source": "# Course 1 - Final Exercises"
        },
        {
            "cell_type": "markdown",
            "metadata": {},
            "source": "Create a program that asks the user to enter their name and their age. Print out a message addressed to them that tells them the year that they will turn 100 years old."
        },
        {
            "cell_type": "code",
            "execution_count": null,
            "metadata": {},
            "outputs": [],
            "source": "A = int(input(\"Type your age\"))\nN = str(input(\"Type your name\"))\n\nX=100-A\n\nY=X+2020\n\nprint(\"Hello \" + N +\" you will turn 100 years in \"+ str(Y))"
        },
        {
            "cell_type": "markdown",
            "metadata": {
                "collapsed": true
            },
            "source": "Add on to the previous program by asking the user for another number and printing out that many copies of the previous message. (Hint: order of operations exists in Python)"
        },
        {
            "cell_type": "code",
            "execution_count": null,
            "metadata": {},
            "outputs": [],
            "source": "A = int(input(\"Type your age\"))\nN = str(input(\"Type your name\"))\nT = int(input(\"How many time you want to repeat this? \"))\n\nX=100-A\n\nY=X+2020\n\nwhile(T>0):\n    print(\"Hello \" + N +\" you will turn 100 years in \"+ str(Y))\n    T = T-1\n"
        },
        {
            "cell_type": "markdown",
            "metadata": {},
            "source": "Take the following two lists:\n\na = [1, 1, 2, 3, 5, 8, 13, 21, 34, 55, 89]\nb = [1, 2, 3, 4, 5, 6, 7, 8, 9, 10, 11, 12, 13]\n\nand write a program that returns a list that contains only the elements that are common between the lists (without duplicates)."
        },
        {
            "cell_type": "code",
            "execution_count": null,
            "metadata": {},
            "outputs": [],
            "source": "A = [1, 1, 2, 3, 5, 8, 13, 21, 34, 55, 89] \nB = [1, 2, 3, 4, 5, 6, 7, 8, 9, 10, 11, 12, 13]\n\nR=[]\n\nR=set(A).intersection(B)\n\nprint(\"The equal values are: \", R)"
        },
        {
            "cell_type": "markdown",
            "metadata": {},
            "source": "Randomly generate two lists to test this."
        },
        {
            "cell_type": "code",
            "execution_count": null,
            "metadata": {},
            "outputs": [],
            "source": "import random\n\nA = []\nB = []\nx=0\nR=0\n\nwhile x<10:\n    A.append(random.randint(1,20))\n    B.append(random.randint(1,20))\n\n    x=x+1\n\nA2=A\nB2=B\n\nprint(\"The lists are:\\n\")\nprint(\"\\nA:\")\nprint(\" \".join(map(str,A2)))\nprint(\"\\nB:\")\nprint(\" \".join(map(str,B2)))\n\nR=set(A).intersection(B)\n\nprint(\"\\nThe equal values are: \", R)"
        },
        {
            "cell_type": "markdown",
            "metadata": {},
            "source": "Make sure your program works on two lists of different sizes. "
        },
        {
            "cell_type": "code",
            "execution_count": null,
            "metadata": {},
            "outputs": [],
            "source": "import random\n\nA = []\nB = []\nx=0\nR=0\n\nwhile x<10:\n    A.append(random.randint(1,20))\n\n    x=x+1\n\nwhile x<50:\n    B.append(random.randint(1,10))\n\n    x=x+1\n\nA2=A\nB2=B\n\nprint(\"The lists are:\\n\")\nprint(\"\\nA:\")\nprint(\" \".join(map(str,A2)))\nprint(\"\\nB:\")\nprint(\" \".join(map(str,B2)))\n\nR=set(A).intersection(B)\n\nprint(\"\\nThe equal values are: \", R)"
        },
        {
            "cell_type": "markdown",
            "metadata": {},
            "source": "Write this in one line of Python using at least one list comprehension"
        },
        {
            "cell_type": "code",
            "execution_count": null,
            "metadata": {},
            "outputs": [],
            "source": "import random\n\na = random.sample(range(1,20),10)\nb = random.sample(range(1,20),10)\nresult [i for i in set(a) if i in b]"
        },
        {
            "cell_type": "markdown",
            "metadata": {},
            "source": "Create the lists in Excel (use two columns, one for a, one for b) and load the file into python \u2013 then try the above exercise with those lists."
        },
        {
            "cell_type": "code",
            "execution_count": 10,
            "metadata": {},
            "outputs": [
                {
                    "data": {
                        "text/html": "<div>\n<style scoped>\n    .dataframe tbody tr th:only-of-type {\n        vertical-align: middle;\n    }\n\n    .dataframe tbody tr th {\n        vertical-align: top;\n    }\n\n    .dataframe thead th {\n        text-align: right;\n    }\n</style>\n<table border=\"1\" class=\"dataframe\">\n  <thead>\n    <tr style=\"text-align: right;\">\n      <th></th>\n      <th>A</th>\n      <th>B</th>\n    </tr>\n  </thead>\n  <tbody>\n    <tr>\n      <th>0</th>\n      <td>1.0</td>\n      <td>1</td>\n    </tr>\n    <tr>\n      <th>1</th>\n      <td>1.0</td>\n      <td>2</td>\n    </tr>\n    <tr>\n      <th>2</th>\n      <td>2.0</td>\n      <td>3</td>\n    </tr>\n    <tr>\n      <th>3</th>\n      <td>3.0</td>\n      <td>4</td>\n    </tr>\n    <tr>\n      <th>4</th>\n      <td>5.0</td>\n      <td>5</td>\n    </tr>\n  </tbody>\n</table>\n</div>",
                        "text/plain": "     A  B\n0  1.0  1\n1  1.0  2\n2  2.0  3\n3  3.0  4\n4  5.0  5"
                    },
                    "execution_count": 10,
                    "metadata": {},
                    "output_type": "execute_result"
                }
            ],
            "source": "# The code was removed by Watson Studio for sharing."
        },
        {
            "cell_type": "code",
            "execution_count": 14,
            "metadata": {},
            "outputs": [
                {
                    "name": "stdout",
                    "output_type": "stream",
                    "text": "[ 1.  1.  2.  3.  5.  8. 13. 21. 34. 55. 89. nan nan]\n[ 1  2  3  4  5  6  7  8  9 10 11 12 13]\n\nThe equal values are:  {1, 2, 3, 5, 8, 13}\n"
                }
            ],
            "source": "A = df_data_0[\"A\"].to_numpy()\n\nB = df_data_0[\"B\"].to_numpy()\n\nprint(A)\nprint(B)\n\nR=0\n\nR=set(A).intersection(B)\n\nprint(\"\\nThe equal values are: \", R)"
        },
        {
            "cell_type": "code",
            "execution_count": null,
            "metadata": {},
            "outputs": [],
            "source": ""
        },
        {
            "cell_type": "code",
            "execution_count": null,
            "metadata": {},
            "outputs": [],
            "source": ""
        }
    ],
    "metadata": {
        "kernelspec": {
            "display_name": "Python 3.6",
            "language": "python",
            "name": "python3"
        },
        "language_info": {
            "codemirror_mode": {
                "name": "ipython",
                "version": 3
            },
            "file_extension": ".py",
            "mimetype": "text/x-python",
            "name": "python",
            "nbconvert_exporter": "python",
            "pygments_lexer": "ipython3",
            "version": "3.6.9"
        }
    },
    "nbformat": 4,
    "nbformat_minor": 1
}