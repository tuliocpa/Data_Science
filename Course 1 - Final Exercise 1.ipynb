{
    "cells": [
        {
            "cell_type": "markdown",
            "metadata": {},
            "source": "# Course 1 - Final Exercises"
        },
        {
            "cell_type": "markdown",
            "metadata": {},
            "source": "Create a program that asks the user to enter their name and their age. Print out a message addressed to them that tells them the year that they will turn 100 years old."
        },
        {
            "cell_type": "code",
            "execution_count": null,
            "metadata": {},
            "outputs": [],
            "source": "A = int(input(\"Type your age\"))\nN = str(input(\"Type your name\"))\n\nX=100-A\n\nY=X+2020\n\nprint(\"Hello \" + N +\" you will turn 100 years in \"+ str(Y))"
        },
        {
            "cell_type": "markdown",
            "metadata": {
                "collapsed": true
            },
            "source": "Add on to the previous program by asking the user for another number and printing out that many copies of the previous message. (Hint: order of operations exists in Python)"
        },
        {
            "cell_type": "code",
            "execution_count": null,
            "metadata": {},
            "outputs": [],
            "source": "A = int(input(\"Type your age\"))\nN = str(input(\"Type your name\"))\nT = int(input(\"How many time you want to repeat this? \"))\n\nX=100-A\n\nY=X+2020\n\nwhile(T>0):\n    print(\"Hello \" + N +\" you will turn 100 years in \"+ str(Y))\n    T = T-1"
        }
    ],
    "metadata": {
        "kernelspec": {
            "display_name": "Python 3.6",
            "language": "python",
            "name": "python3"
        },
        "language_info": {
            "codemirror_mode": {
                "name": "ipython",
                "version": 3
            },
            "file_extension": ".py",
            "mimetype": "text/x-python",
            "name": "python",
            "nbconvert_exporter": "python",
            "pygments_lexer": "ipython3",
            "version": "3.6.9"
        }
    },
    "nbformat": 4,
    "nbformat_minor": 1
}