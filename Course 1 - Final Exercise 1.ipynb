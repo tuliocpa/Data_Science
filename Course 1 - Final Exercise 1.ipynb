{
    "cells": [
        {
            "cell_type": "markdown",
            "metadata": {},
            "source": "# Course 1 - Final Exercises"
        },
        {
            "cell_type": "markdown",
            "metadata": {},
            "source": "Create a program that asks the user to enter their name and their age. Print out a message addressed to them that tells them the year that they will turn 100 years old."
        },
        {
            "cell_type": "code",
            "execution_count": null,
            "metadata": {},
            "outputs": [],
            "source": "A = int(input(\"Type your age\"))\nN = str(input(\"Type your name\"))\n\nX=100-A\n\nY=X+2020\n\nprint(\"Hello \" + N +\" you will turn 100 years in \"+ str(Y))"
        },
        {
            "cell_type": "markdown",
            "metadata": {
                "collapsed": true
            },
            "source": "Add on to the previous program by asking the user for another number and printing out that many copies of the previous message. (Hint: order of operations exists in Python)"
        },
        {
            "cell_type": "code",
            "execution_count": null,
            "metadata": {},
            "outputs": [],
            "source": "A = int(input(\"Type your age\"))\nN = str(input(\"Type your name\"))\nT = int(input(\"How many time you want to repeat this? \"))\n\nX=100-A\n\nY=X+2020\n\nwhile(T>0):\n    print(\"Hello \" + N +\" you will turn 100 years in \"+ str(Y))\n    T = T-1\n"
        },
        {
            "cell_type": "markdown",
            "metadata": {},
            "source": "Take the following two lists:\n\na = [1, 1, 2, 3, 5, 8, 13, 21, 34, 55, 89]\nb = [1, 2, 3, 4, 5, 6, 7, 8, 9, 10, 11, 12, 13]\n\nand write a program that returns a list that contains only the elements that are common between the lists (without duplicates)."
        },
        {
            "cell_type": "code",
            "execution_count": null,
            "metadata": {},
            "outputs": [],
            "source": "A = [1, 1, 2, 3, 5, 8, 13, 21, 34, 55, 89] \nB = [1, 2, 3, 4, 5, 6, 7, 8, 9, 10, 11, 12, 13]\n\nR=[]\n\nR=set(A).intersection(B)\n\nprint(\"The equal values are: \", R)"
        },
        {
            "cell_type": "markdown",
            "metadata": {},
            "source": "Randomly generate two lists to test this."
        },
        {
            "cell_type": "code",
            "execution_count": null,
            "metadata": {},
            "outputs": [],
            "source": "import random\n\nA = []\nB = []\nx=0\nR=0\n\nwhile x<10:\n    A.append(random.randint(1,20))\n    B.append(random.randint(1,20))\n\n    x=x+1\n\nA2=A\nB2=B\n\nprint(\"The lists are:\\n\")\nprint(\"\\nA:\")\nprint(\" \".join(map(str,A2)))\nprint(\"\\nB:\")\nprint(\" \".join(map(str,B2)))\n\nR=set(A).intersection(B)\n\nprint(\"\\nThe equal values are: \", R)"
        },
        {
            "cell_type": "markdown",
            "metadata": {},
            "source": "Make sure your program works on two lists of different sizes. "
        },
        {
            "cell_type": "code",
            "execution_count": null,
            "metadata": {},
            "outputs": [],
            "source": "import random\n\nA = []\nB = []\nx=0\nR=0\n\nwhile x<10:\n    A.append(random.randint(1,20))\n\n    x=x+1\n\nwhile x<50:\n    B.append(random.randint(1,10))\n\n    x=x+1\n\nA2=A\nB2=B\n\nprint(\"The lists are:\\n\")\nprint(\"\\nA:\")\nprint(\" \".join(map(str,A2)))\nprint(\"\\nB:\")\nprint(\" \".join(map(str,B2)))\n\nR=set(A).intersection(B)\n\nprint(\"\\nThe equal values are: \", R)"
        },
        {
            "cell_type": "code",
            "execution_count": null,
            "metadata": {},
            "outputs": [],
            "source": ""
        },
        {
            "cell_type": "code",
            "execution_count": null,
            "metadata": {},
            "outputs": [],
            "source": ""
        }
    ],
    "metadata": {
        "kernelspec": {
            "display_name": "Python 3.6",
            "language": "python",
            "name": "python3"
        },
        "language_info": {
            "codemirror_mode": {
                "name": "ipython",
                "version": 3
            },
            "file_extension": ".py",
            "mimetype": "text/x-python",
            "name": "python",
            "nbconvert_exporter": "python",
            "pygments_lexer": "ipython3",
            "version": "3.6.9"
        }
    },
    "nbformat": 4,
    "nbformat_minor": 1
}